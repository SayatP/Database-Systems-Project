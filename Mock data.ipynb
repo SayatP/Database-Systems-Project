{
 "cells": [
  {
   "cell_type": "code",
   "execution_count": 1,
   "id": "54156519",
   "metadata": {},
   "outputs": [],
   "source": [
    "import random\n",
    "from faker import Faker\n",
    "from functools import partial\n",
    "\n",
    "from data_generation_utils import *"
   ]
  },
  {
   "cell_type": "markdown",
   "id": "3a510bd8",
   "metadata": {},
   "source": []
  },
  {
   "cell_type": "code",
   "execution_count": 2,
   "id": "f2b6951c",
   "metadata": {},
   "outputs": [],
   "source": [
    "NUMBER_OF_ADMINS = 5\n",
    "NUMBER_OF_CLIENTS = 100\n",
    "NUMBER_OF_DONORS = 15\n",
    "NUMBER_OF_SERVICES = 25\n",
    "NUMBER_OF_APPLICATION_FORMS = 40\n",
    "NUMBER_OF_APPLICATIONS = 120\n",
    "NUMBER_OF_ATTACHMENTS = 100\n",
    "# cannot be more than number of applications\n",
    "NUMBER_OF_REVIEWS = 70\n",
    "NUMBER_OF_COMMENTS = 200\n",
    "NUMBER_OF_SPONSORSHIPS = 200\n",
    "\n"
   ]
  },
  {
   "cell_type": "code",
   "execution_count": 3,
   "id": "ff01197d",
   "metadata": {},
   "outputs": [],
   "source": [
    "donor_columns = \"email, first_name, last_name, password, address, city\"\n",
    "donor_data = columns_to_fake_sql_data('donor', donor_columns, NUMBER_OF_DONORS)"
   ]
  },
  {
   "cell_type": "code",
   "execution_count": 4,
   "id": "6c40fe08",
   "metadata": {},
   "outputs": [],
   "source": [
    "client_columns = \"ssn , first_name, last_name, password,  address, city,  email\"\n",
    "client_data = columns_to_fake_sql_data('client', client_columns, NUMBER_OF_CLIENTS)"
   ]
  },
  {
   "cell_type": "code",
   "execution_count": 5,
   "id": "1e53dbf1",
   "metadata": {},
   "outputs": [],
   "source": [
    "admin_columns = \"email,first_name, last_name, password\"\n",
    "admin_data = columns_to_fake_sql_data('admin', admin_columns, NUMBER_OF_ADMINS)"
   ]
  },
  {
   "cell_type": "code",
   "execution_count": 6,
   "id": "23d0bb3f",
   "metadata": {},
   "outputs": [],
   "source": [
    "service_columns = \"title, description, budget, created_at, created_by\"\n",
    "get_fake_service = partial(get_fake_service, NUMBER_OF_ADMINS)\n",
    "service_data = columns_and_func_to_fake_sql_data('service', service_columns, get_fake_service, NUMBER_OF_SERVICES)"
   ]
  },
  {
   "cell_type": "code",
   "execution_count": 7,
   "id": "194c6d4f",
   "metadata": {},
   "outputs": [],
   "source": [
    "application_form_columns = \"service_id, name, text, created_at\"\n",
    "get_fake_application_form = partial(get_fake_application_form, NUMBER_OF_SERVICES)\n",
    "application_form_data = columns_and_func_to_fake_sql_data(\n",
    "    'application_form', application_form_columns, get_fake_application_form, NUMBER_OF_APPLICATION_FORMS)"
   ]
  },
  {
   "cell_type": "code",
   "execution_count": 8,
   "id": "43f6892b",
   "metadata": {},
   "outputs": [],
   "source": [
    "application_columns = \"application_form_id, client_id, text, created_at\"\n",
    "get_fake_application = partial(get_fake_application, NUMBER_OF_APPLICATION_FORMS, NUMBER_OF_CLIENTS)\n",
    "application_data = columns_and_func_to_fake_sql_data(\n",
    "    'application', application_columns, get_fake_application, NUMBER_OF_APPLICATIONS)\n"
   ]
  },
  {
   "cell_type": "code",
   "execution_count": 9,
   "id": "2523c585",
   "metadata": {},
   "outputs": [],
   "source": [
    "attachment_columns = \"ID, name, url\"\n",
    "get_fake_attachment = partial(get_fake_attachment, NUMBER_OF_APPLICATIONS)\n",
    "\n",
    "attachment_data = columns_and_func_to_fake_sql_data(\n",
    "    'attachment', attachment_columns, get_fake_attachment, NUMBER_OF_ATTACHMENTS)\n"
   ]
  },
  {
   "cell_type": "code",
   "execution_count": 10,
   "id": "0cd6e528",
   "metadata": {},
   "outputs": [],
   "source": [
    "review_columns = \"application_id, reviewer_id, reason, status, created_at\"\n",
    "get_fake_review = partial(get_fake_review, NUMBER_OF_ADMINS)\n",
    "review_data = columns_and_func_to_fake_sql_data_indexed(\n",
    "    'review', review_columns, get_fake_review, NUMBER_OF_REVIEWS, NUMBER_OF_APPLICATIONS)\n",
    "\n"
   ]
  },
  {
   "cell_type": "code",
   "execution_count": 11,
   "id": "d44820cf",
   "metadata": {},
   "outputs": [],
   "source": [
    "comment_columns = \"application_id, `index`, author_email, created_at, text\"\n",
    "comment_data = columns_and_func_to_fake_sql_data_indexed(\n",
    "    'comment', comment_columns, get_fake_comment, NUMBER_OF_COMMENTS, NUMBER_OF_APPLICATIONS)\n",
    "\n"
   ]
  },
  {
   "cell_type": "code",
   "execution_count": 3,
   "id": "d99287b9",
   "metadata": {},
   "outputs": [],
   "source": [
    "sponsorship_columns = \"donor_id, service_id, amount, created_at\"\n",
    "get_fake_sponsorship = partial(get_fake_sponsorship, NUMBER_OF_DONORS, NUMBER_OF_SERVICES)\n",
    "sponsorship_data = columns_and_func_to_fake_sql_data(\n",
    "    'sponsorship', sponsorship_columns, get_fake_sponsorship, NUMBER_OF_SPONSORSHIPS)\n"
   ]
  },
  {
   "cell_type": "code",
   "execution_count": null,
   "id": "6585ef46",
   "metadata": {},
   "outputs": [],
   "source": []
  }
 ],
 "metadata": {
  "kernelspec": {
   "display_name": "Python 3 (ipykernel)",
   "language": "python",
   "name": "python3"
  },
  "language_info": {
   "codemirror_mode": {
    "name": "ipython",
    "version": 3
   },
   "file_extension": ".py",
   "mimetype": "text/x-python",
   "name": "python",
   "nbconvert_exporter": "python",
   "pygments_lexer": "ipython3",
   "version": "3.10.8"
  },
  "vscode": {
   "interpreter": {
    "hash": "767d51c1340bd893661ea55ea3124f6de3c7a262a8b4abca0554b478b1e2ff90"
   }
  }
 },
 "nbformat": 4,
 "nbformat_minor": 5
}
